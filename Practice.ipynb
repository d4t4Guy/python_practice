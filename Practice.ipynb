{
 "cells": [
  {
   "cell_type": "markdown",
   "metadata": {},
   "source": [
    "#### Write a fn that orders an array of numbers from least to greatest"
   ]
  },
  {
   "cell_type": "markdown",
   "metadata": {},
   "source": [
    "1. Initialize sorted array with arr[0]\n",
    "2. Get next number in input array, set to i\n",
    "3. Get last number in sorted array, set to j\n",
    "4. if i >= j then append i to sorted array\n",
    "5. else "
   ]
  },
  {
   "cell_type": "code",
   "execution_count": 1,
   "metadata": {},
   "outputs": [],
   "source": [
    "\n",
    "\n",
    "\n",
    "# sort input array from least to greatest values\n",
    "def arr_sort(arr):\n",
    "    \n",
    "    #initialize array for fn to return\n",
    "    arr_s=[]\n",
    "    \n",
    "    #find min value in array and remove it from array. Return min value.\n",
    "    def yank_min(arr):\n",
    "        for i in range(len(arr)):\n",
    "            if i == 0:\n",
    "                i_min = arr[i]\n",
    "            else:\n",
    "                a = i_min\n",
    "                b = arr[i]\n",
    "                if b < a:\n",
    "                    i_min = b\n",
    "\n",
    "        return arr.pop(arr.index(i_min))\n",
    "\n",
    "    #go through input array, find min value, remove it, then append that value to sorted array\n",
    "    for i in range(len(arr)):\n",
    "        arr_s.append(yank_min(arr))\n",
    "    return arr_s    \n"
   ]
  },
  {
   "cell_type": "code",
   "execution_count": 2,
   "metadata": {},
   "outputs": [
    {
     "name": "stdout",
     "output_type": "stream",
     "text": [
      "[-5, -5, 0, 0, 1, 2, 3, 4, 5]\n"
     ]
    }
   ],
   "source": [
    "#example:\n",
    "\n",
    "arr = [5,4,1,-5,0,0,-5,2,3]\n",
    "\n",
    "new_array = arr_sort(arr)\n",
    "print(new_array)"
   ]
  },
  {
   "cell_type": "markdown",
   "metadata": {},
   "source": [
    "#### Create a function that returns true iff string is a palindrome"
   ]
  },
  {
   "cell_type": "code",
   "execution_count": 3,
   "metadata": {},
   "outputs": [
    {
     "name": "stdout",
     "output_type": "stream",
     "text": [
      "a\n",
      "b\n",
      "c\n",
      "c\n",
      "b\n",
      "a\n"
     ]
    }
   ],
   "source": [
    "mystring = 'abccba'\n",
    "for each_letter in mystring:\n",
    "    print(each_letter)"
   ]
  },
  {
   "cell_type": "code",
   "execution_count": 4,
   "metadata": {},
   "outputs": [
    {
     "name": "stdout",
     "output_type": "stream",
     "text": [
      "True\n"
     ]
    }
   ],
   "source": [
    "string_r = \"\".join(reversed(mystring))\n",
    "print(string_r==mystring)"
   ]
  },
  {
   "cell_type": "code",
   "execution_count": 6,
   "metadata": {},
   "outputs": [
    {
     "name": "stdout",
     "output_type": "stream",
     "text": [
      "<reversed object at 0x000001F0426DD130>\n"
     ]
    }
   ],
   "source": [
    "print(reversed(mystring))"
   ]
  },
  {
   "cell_type": "code",
   "execution_count": 7,
   "metadata": {},
   "outputs": [
    {
     "name": "stdout",
     "output_type": "stream",
     "text": [
      "abccba\n"
     ]
    }
   ],
   "source": [
    "print(string_r)"
   ]
  },
  {
   "cell_type": "markdown",
   "metadata": {},
   "source": [
    "Write a function **complete_address** to create a single dataframe with complete addresses in the format of street, city, state, zipcode.\n",
    "\n",
    "#### Input:\n",
    "\n",
    "import pandas as pd\n",
    "\n",
    "addresses = {\"address\": [\"4860 Sunset Boulevard, San Francisco, 94105\", \"3055 Paradise Lane, Salt Lake City, 84103\", \"682 Main Street, Detroit, 48204\", \"9001 Cascade Road, Kansas City, 64102\", \"5853 Leon Street, Tampa, 33605\"]}\n",
    "\n",
    "cities = {\"city\": [\"Salt Lake City\", \"Kansas City\", \"Detroit\", \"Tampa\", \"San Francisco\"], \"state\": [\"Utah\", \"Missouri\", \"Michigan\", \"Florida\", \"California\"]}\n",
    "\n",
    "df_addresses = pd.DataFrame(addresses)\n",
    "df_cities = pd.DataFrame(cities)\n",
    "\n",
    "\n",
    "#### Output:\n",
    "\n",
    "def complete_address(df_addresses,df_cities) ->\n",
    "\n",
    "address\n",
    "4860 Sunset Boulevard, San Francisco, California, 94105\n",
    "3055 Paradise Lane, Salt Lake City, Utah, 84103\n",
    "682 Main Street, Detroit, Michigan, 48204\n",
    "9001 Cascade Road, Kansas City, Missouri, 64102\n",
    "5853 Leon Street, Tampa, Florida, 33605"
   ]
  },
  {
   "cell_type": "code",
   "execution_count": 53,
   "metadata": {},
   "outputs": [],
   "source": [
    "import pandas as pd\n",
    "\n",
    "addresses = {\"address\": [\"4860 Sunset Boulevard, San Francisco, 94105\", \"3055 Paradise Lane, Salt Lake City, 84103\", \"682 Main Street, Detroit, 48204\", \"9001 Cascade Road, Kansas City, 64102\", \"5853 Leon Street, Tampa, 33605\"]}\n",
    "\n",
    "cities = {\"city\": [\"Salt Lake City\", \"Kansas City\", \"Detroit\", \"Tampa\", \"San Francisco\"], \"state\": [\"Utah\", \"Missouri\", \"Michigan\", \"Florida\", \"California\"]}\n",
    "\n",
    "df_addresses = pd.DataFrame(addresses)\n",
    "df_cities = pd.DataFrame(cities)"
   ]
  },
  {
   "cell_type": "code",
   "execution_count": 54,
   "metadata": {},
   "outputs": [],
   "source": [
    "def complete_address(df_addresses,df_cities):\n",
    "    # 1. break up address field by commas\n",
    "    df_addresses[['street', 'city', 'zip']] = df_addresses.address.str.split(\", \",expand=True)\n",
    "    \n",
    "    # 2. join input dataframes on city\n",
    "    df_complete = df_addresses.merge(df_cities, on='city')\n",
    "    \n",
    "    #3. Create new df with only columns needed in proper order\n",
    "    address_cols = ['street', 'city','state','zip']\n",
    "    df_c = df_complete[address_cols]\n",
    "    \n",
    "    # 4. concatenate individual fields into single comma separated field\n",
    "    df_c['address'] = df_c[address_cols].apply(lambda row: ', '.join(row.values.astype(str)), axis='columns')\n",
    "    \n",
    "    #5. drop unneeded columns\n",
    "    df_c.drop(labels=address_cols, axis='columns', inplace=True)\n",
    "    \n",
    "    # finally, return df\n",
    "    return df_c"
   ]
  },
  {
   "cell_type": "code",
   "execution_count": 55,
   "metadata": {},
   "outputs": [],
   "source": [
    "df = complete_address(df_addresses, df_cities)"
   ]
  },
  {
   "cell_type": "code",
   "execution_count": 56,
   "metadata": {},
   "outputs": [
    {
     "data": {
      "text/html": [
       "<div>\n",
       "<style scoped>\n",
       "    .dataframe tbody tr th:only-of-type {\n",
       "        vertical-align: middle;\n",
       "    }\n",
       "\n",
       "    .dataframe tbody tr th {\n",
       "        vertical-align: top;\n",
       "    }\n",
       "\n",
       "    .dataframe thead th {\n",
       "        text-align: right;\n",
       "    }\n",
       "</style>\n",
       "<table border=\"1\" class=\"dataframe\">\n",
       "  <thead>\n",
       "    <tr style=\"text-align: right;\">\n",
       "      <th></th>\n",
       "      <th>address</th>\n",
       "    </tr>\n",
       "  </thead>\n",
       "  <tbody>\n",
       "    <tr>\n",
       "      <th>0</th>\n",
       "      <td>4860 Sunset Boulevard, San Francisco, Californ...</td>\n",
       "    </tr>\n",
       "    <tr>\n",
       "      <th>1</th>\n",
       "      <td>3055 Paradise Lane, Salt Lake City, Utah, 84103</td>\n",
       "    </tr>\n",
       "    <tr>\n",
       "      <th>2</th>\n",
       "      <td>682 Main Street, Detroit, Michigan, 48204</td>\n",
       "    </tr>\n",
       "    <tr>\n",
       "      <th>3</th>\n",
       "      <td>9001 Cascade Road, Kansas City, Missouri, 64102</td>\n",
       "    </tr>\n",
       "    <tr>\n",
       "      <th>4</th>\n",
       "      <td>5853 Leon Street, Tampa, Florida, 33605</td>\n",
       "    </tr>\n",
       "  </tbody>\n",
       "</table>\n",
       "</div>"
      ],
      "text/plain": [
       "                                             address\n",
       "0  4860 Sunset Boulevard, San Francisco, Californ...\n",
       "1    3055 Paradise Lane, Salt Lake City, Utah, 84103\n",
       "2          682 Main Street, Detroit, Michigan, 48204\n",
       "3    9001 Cascade Road, Kansas City, Missouri, 64102\n",
       "4            5853 Leon Street, Tampa, Florida, 33605"
      ]
     },
     "execution_count": 56,
     "metadata": {},
     "output_type": "execute_result"
    }
   ],
   "source": [
    "df.head()"
   ]
  },
  {
   "cell_type": "code",
   "execution_count": null,
   "metadata": {},
   "outputs": [],
   "source": []
  }
 ],
 "metadata": {
  "kernelspec": {
   "display_name": "Python 3",
   "language": "python",
   "name": "python3"
  },
  "language_info": {
   "codemirror_mode": {
    "name": "ipython",
    "version": 3
   },
   "file_extension": ".py",
   "mimetype": "text/x-python",
   "name": "python",
   "nbconvert_exporter": "python",
   "pygments_lexer": "ipython3",
   "version": "3.8.5"
  }
 },
 "nbformat": 4,
 "nbformat_minor": 4
}
